{
  "nbformat": 4,
  "nbformat_minor": 0,
  "metadata": {
    "colab": {
      "provenance": []
    },
    "kernelspec": {
      "name": "python3",
      "display_name": "Python 3"
    },
    "language_info": {
      "name": "python"
    }
  },
  "cells": [
    {
      "cell_type": "code",
      "source": [
        "!apt-get update\n",
        "!apt install chromium-chromedriver\n",
        "!cp /usr/lib/chromium-browser/chromedriver /usr/bin\n",
        "!pip install selenium"
      ],
      "metadata": {
        "id": "V3tr2YKMnM7h"
      },
      "execution_count": null,
      "outputs": []
    },
    {
      "cell_type": "markdown",
      "source": [
        "/content/sample_data"
      ],
      "metadata": {
        "id": "xmSvGQFlrPQD"
      }
    },
    {
      "cell_type": "markdown",
      "source": [
        "---\n"
      ],
      "metadata": {
        "id": "Alcqa1akunU4"
      }
    },
    {
      "cell_type": "code",
      "source": [
        "# Update package list and install necessary dependencies\n",
        "!apt-get update\n",
        "!apt-get install -y wget unzip libvulkan1\n",
        "\n",
        "# Download and install Google Chrome\n",
        "!wget https://dl.google.com/linux/direct/google-chrome-stable_current_amd64.deb\n",
        "!dpkg -i google-chrome-stable_current_amd64.deb\n",
        "!apt-get install -f -y\n",
        "\n",
        "# Install xvfb for virtual framebuffer support\n",
        "!apt-get install -y xvfb\n",
        "\n",
        "# Install selenium and chromedriver-autoinstaller\n",
        "!pip install selenium chromedriver-autoinstaller\n",
        "\n",
        "# Automatically install the correct version of ChromeDriver\n",
        "import chromedriver_autoinstaller\n",
        "chromedriver_autoinstaller.install()\n",
        "\n",
        "# Configure Selenium with Chrome options\n",
        "from selenium import webdriver\n",
        "from selenium.webdriver.chrome.options import Options\n",
        "\n",
        "chrome_options = Options()\n",
        "chrome_options.add_argument(\"--headless\")\n",
        "chrome_options.add_argument(\"--no-sandbox\")\n",
        "chrome_options.add_argument(\"--disable-dev-shm-usage\")\n",
        "\n",
        "# Initialize the WebDriver\n",
        "driver = webdriver.Chrome(options=chrome_options)\n",
        "\n",
        "# Open Google and print the title of the page\n",
        "driver.get('https://google.com')\n",
        "print(driver.title)\n",
        "driver.quit()"
      ],
      "metadata": {
        "id": "01Q2iU7Trqxv"
      },
      "execution_count": null,
      "outputs": []
    },
    {
      "cell_type": "code",
      "source": [
        "from selenium import webdriver\n",
        "from selenium.webdriver.common.keys import Keys\n",
        "from selenium.webdriver.chrome.options import Options\n",
        "from selenium.webdriver.chrome.service import Service # Import the Service class\n",
        "import time\n",
        "from bs4 import BeautifulSoup\n",
        "from selenium import webdriver\n",
        "from selenium.webdriver.chrome.options import Options\n",
        "\n",
        "chrome_options = Options()\n",
        "chrome_options.add_argument(\"--headless\")\n",
        "chrome_options.add_argument(\"--no-sandbox\")\n",
        "chrome_options.add_argument(\"--disable-dev-shm-usage\")\n",
        "# Initialize the WebDriver\n",
        "driver = webdriver.Chrome(options=chrome_options)\n",
        "\n",
        "url = \"https://www.pet.gov.tw/AnimalApp/ShelterMap.aspx\"\n",
        "driver.get(url)\n",
        "time.sleep(3)  # 等待網頁加載\n",
        "html = driver.page_source  # 获取网页源代码\n",
        "soup = BeautifulSoup(html, \"lxml\")  # 使用 BeautifulSoup 解析 HTML\n",
        "\n",
        "print(len(soup.find_all(\"table\")))  # 打印表格数量\n",
        "print(soup.find(\"table\", {\"id\": \"tab2-1\"}))  # 打印指定 ID 的表格\n",
        "\n",
        "driver.close()  # 關閉瀏覽器視窗\n",
        "driver.quit()  # 結束瀏覽器進程"
      ],
      "metadata": {
        "colab": {
          "base_uri": "https://localhost:8080/"
        },
        "id": "KQw3v8yzl3d3",
        "outputId": "5c813785-0f76-4116-d4e1-35b795ae24fa"
      },
      "execution_count": null,
      "outputs": [
        {
          "output_type": "stream",
          "name": "stdout",
          "text": [
            "1\n",
            "<table class=\"table table-rwd table-bordered table-striped table-th\" id=\"tab2-1\" style=\"text-align:center;border:none;\">\n",
            "<thead><tr class=\"tab-title\">\n",
            "<th>收容所</th>\n",
            "<th>(犬)留容最大值</th>\n",
            "<th>(犬)在養數</th>\n",
            "<th>燈號</th>\n",
            "</tr>\n",
            "</thead>\n",
            "<tbody id=\"dynamic-tbody\"><tr><td class=\"tab-left\"><a herf=\"#\" onclick=\"link1_Click('新北市政府動物保護防疫處','AAAAG')\">新北市政府動物保護防疫處</a></td><td class=\"tab-right\">20</td><td class=\"tab-right\">13</td><td><img src=\"../img/lampG1.jpg\"/></td></tr><tr><td class=\"tab-left\"><a herf=\"#\" onclick=\"link1_Click('新北市板橋區公立動物之家','AAADG')\">新北市板橋區公立動物之家</a></td><td class=\"tab-right\">347</td><td class=\"tab-right\">160</td><td><img src=\"../img/lampG.jpg\"/></td></tr><tr><td class=\"tab-left\"><a herf=\"#\" onclick=\"link1_Click('新北市新店區公立動物之家','AAACG')\">新北市新店區公立動物之家</a></td><td class=\"tab-right\">170</td><td class=\"tab-right\">132</td><td><img src=\"../img/lampG1.jpg\"/></td></tr><tr><td class=\"tab-left\"><a herf=\"#\" onclick=\"link1_Click('新北市中和區公立動物之家','AAAEG')\">新北市中和區公立動物之家</a></td><td class=\"tab-right\">353</td><td class=\"tab-right\">232</td><td><img src=\"../img/lampG1.jpg\"/></td></tr><tr><td class=\"tab-left\"><a herf=\"#\" onclick=\"link1_Click('新北市淡水區公立動物之家','AAAFG')\">新北市淡水區公立動物之家</a></td><td class=\"tab-right\">85</td><td class=\"tab-right\">50</td><td><img src=\"../img/lampG1.jpg\"/></td></tr><tr><td class=\"tab-left\"><a herf=\"#\" onclick=\"link1_Click('新北市瑞芳區公立動物之家','AAAGG')\">新北市瑞芳區公立動物之家</a></td><td class=\"tab-right\">100</td><td class=\"tab-right\">75</td><td><img src=\"../img/lampG1.jpg\"/></td></tr><tr><td class=\"tab-left\"><a herf=\"#\" onclick=\"link1_Click('新北市五股區公立動物之家','AAAHG')\">新北市五股區公立動物之家</a></td><td class=\"tab-right\">260</td><td class=\"tab-right\">190</td><td><img src=\"../img/lampG1.jpg\"/></td></tr><tr><td class=\"tab-left\"><a herf=\"#\" onclick=\"link1_Click('新北市八里區公立動物之家','AAAIG')\">新北市八里區公立動物之家</a></td><td class=\"tab-right\">160</td><td class=\"tab-right\">80</td><td><img src=\"../img/lampG1.jpg\"/></td></tr><tr><td class=\"tab-left\"><a herf=\"#\" onclick=\"link1_Click('新北市三芝區公立動物之家','AAAJG')\">新北市三芝區公立動物之家</a></td><td class=\"tab-right\">120</td><td class=\"tab-right\">35</td><td><img src=\"../img/lampG.jpg\"/></td></tr><tr><td class=\"tab-left\"><a herf=\"#\" onclick=\"link1_Click('臺北市動物之家','VAAAG')\">臺北市動物之家</a></td><td class=\"tab-right\">840</td><td class=\"tab-right\">729</td><td><img src=\"../img/lampR1.jpg\"/></td></tr><tr><td class=\"tab-left\"><a herf=\"#\" onclick=\"link1_Click('臺中市動物之家南屯園區','FAAAG')\">臺中市動物之家南屯園區</a></td><td class=\"tab-right\">400</td><td class=\"tab-right\">359</td><td><img src=\"../img/lampR1.jpg\"/></td></tr><tr><td class=\"tab-left\"><a herf=\"#\" onclick=\"link1_Click('臺中市動物之家后里園區','FAABG')\">臺中市動物之家后里園區</a></td><td class=\"tab-right\">400</td><td class=\"tab-right\">107</td><td><img src=\"../img/lampG.jpg\"/></td></tr><tr><td class=\"tab-left\"><a herf=\"#\" onclick=\"link1_Click('臺南市動物之家灣裡站','UAAAG')\">臺南市動物之家灣裡站</a></td><td class=\"tab-right\">400</td><td class=\"tab-right\">674</td><td><img src=\"../img/lampR.jpg\"/></td></tr><tr><td class=\"tab-left\"><a herf=\"#\" onclick=\"link1_Click('臺南市動物之家善化站','UAABG')\">臺南市動物之家善化站</a></td><td class=\"tab-right\">300</td><td class=\"tab-right\">680</td><td><img src=\"../img/lampR.jpg\"/></td></tr><tr><td class=\"tab-left\"><a herf=\"#\" onclick=\"link1_Click('高雄市壽山動物保護教育園區','LAAAG')\">高雄市壽山動物保護教育園區</a></td><td class=\"tab-right\">250</td><td class=\"tab-right\">70</td><td><img src=\"../img/lampG.jpg\"/></td></tr><tr><td class=\"tab-left\"><a herf=\"#\" onclick=\"link1_Click('高雄市燕巢動物保護關愛園區','LAABG')\">高雄市燕巢動物保護關愛園區</a></td><td class=\"tab-right\">650</td><td class=\"tab-right\">296</td><td><img src=\"../img/lampG.jpg\"/></td></tr><tr><td class=\"tab-left\"><a herf=\"#\" onclick=\"link1_Click('桃園市動物保護教育園區','CAAAG')\">桃園市動物保護教育園區</a></td><td class=\"tab-right\">652</td><td class=\"tab-right\">667</td><td><img src=\"../img/lampR1.jpg\"/></td></tr><tr><td class=\"tab-left\"><a herf=\"#\" onclick=\"link1_Click('宜蘭縣流浪動物中途之家','BAAAG')\">宜蘭縣流浪動物中途之家</a></td><td class=\"tab-right\">270</td><td class=\"tab-right\">181</td><td><img src=\"../img/lampG1.jpg\"/></td></tr><tr><td class=\"tab-left\"><a herf=\"#\" onclick=\"link1_Click('新竹縣動物保護教育園區','DAAAG')\">新竹縣動物保護教育園區</a></td><td class=\"tab-right\">162</td><td class=\"tab-right\">158</td><td><img src=\"../img/lampR1.jpg\"/></td></tr><tr><td class=\"tab-left\"><a herf=\"#\" onclick=\"link1_Click('苗栗縣動物保護教育園區','EAAAG')\">苗栗縣動物保護教育園區</a></td><td class=\"tab-right\">371</td><td class=\"tab-right\">414</td><td><img src=\"../img/lampR1.jpg\"/></td></tr><tr><td class=\"tab-left\"><a herf=\"#\" onclick=\"link1_Click('彰化縣流浪狗中途之家','GAAAG')\">彰化縣流浪狗中途之家</a></td><td class=\"tab-right\">239</td><td class=\"tab-right\">153</td><td><img src=\"../img/lampG1.jpg\"/></td></tr><tr><td class=\"tab-left\"><a herf=\"#\" onclick=\"link1_Click('南投縣公立動物收容所','HAAAG')\">南投縣公立動物收容所</a></td><td class=\"tab-right\">300</td><td class=\"tab-right\">345</td><td><img src=\"../img/lampR1.jpg\"/></td></tr><tr><td class=\"tab-left\"><a herf=\"#\" onclick=\"link1_Click('雲林縣流浪動物收容所','IAAAG')\">雲林縣流浪動物收容所</a></td><td class=\"tab-right\">300</td><td class=\"tab-right\">375</td><td><img src=\"../img/lampR.jpg\"/></td></tr><tr><td class=\"tab-left\"><a herf=\"#\" onclick=\"link1_Click('嘉義縣動物保護教育園區','JAAAG')\">嘉義縣動物保護教育園區</a></td><td class=\"tab-right\">200</td><td class=\"tab-right\">155</td><td><img src=\"../img/lampG1.jpg\"/></td></tr><tr><td class=\"tab-left\"><a herf=\"#\" onclick=\"link1_Click('屏東縣公立犬貓中途之家','MAAAG')\">屏東縣公立犬貓中途之家</a></td><td class=\"tab-right\">80</td><td class=\"tab-right\">91</td><td><img src=\"../img/lampR1.jpg\"/></td></tr><tr><td class=\"tab-left\"><a herf=\"#\" onclick=\"link1_Click('屏東縣動物之家','MAABG')\">屏東縣動物之家</a></td><td class=\"tab-right\">500</td><td class=\"tab-right\">339</td><td><img src=\"../img/lampG1.jpg\"/></td></tr><tr><td class=\"tab-left\"><a herf=\"#\" onclick=\"link1_Click('臺東縣動物收容中心','NAAAG')\">臺東縣動物收容中心</a></td><td class=\"tab-right\">104</td><td class=\"tab-right\">61</td><td><img src=\"../img/lampG1.jpg\"/></td></tr><tr><td class=\"tab-left\"><a herf=\"#\" onclick=\"link1_Click('花蓮縣狗貓躍動園區','OAAAG')\">花蓮縣狗貓躍動園區</a></td><td class=\"tab-right\">330</td><td class=\"tab-right\">223</td><td><img src=\"../img/lampG1.jpg\"/></td></tr><tr><td class=\"tab-left\"><a herf=\"#\" onclick=\"link1_Click('澎湖縣流浪動物收容中心','PAAAG')\">澎湖縣流浪動物收容中心</a></td><td class=\"tab-right\">348</td><td class=\"tab-right\">372</td><td><img src=\"../img/lampR1.jpg\"/></td></tr><tr><td class=\"tab-left\"><a herf=\"#\" onclick=\"link1_Click('基隆市寵物銀行','QAAAG')\">基隆市寵物銀行</a></td><td class=\"tab-right\">100</td><td class=\"tab-right\">50</td><td><img src=\"../img/lampG1.jpg\"/></td></tr><tr><td class=\"tab-left\"><a herf=\"#\" onclick=\"link1_Click('新竹市動物保護教育園區','RAAAG')\">新竹市動物保護教育園區</a></td><td class=\"tab-right\">250</td><td class=\"tab-right\">159</td><td><img src=\"../img/lampG1.jpg\"/></td></tr><tr><td class=\"tab-left\"><a herf=\"#\" onclick=\"link1_Click('嘉義市動物保護教育園區','TAAAG')\">嘉義市動物保護教育園區</a></td><td class=\"tab-right\">100</td><td class=\"tab-right\">65</td><td><img src=\"../img/lampG1.jpg\"/></td></tr><tr><td class=\"tab-left\"><a herf=\"#\" onclick=\"link1_Click('金門縣動物收容中心','YAAAG')\">金門縣動物收容中心</a></td><td class=\"tab-right\">200</td><td class=\"tab-right\">179</td><td><img src=\"../img/lampR1.jpg\"/></td></tr><tr><td class=\"tab-left\"><a herf=\"#\" onclick=\"link1_Click('連江縣流浪犬收容中心','XAAAG')\">連江縣流浪犬收容中心</a></td><td class=\"tab-right\">120</td><td class=\"tab-right\">58</td><td><img src=\"../img/lampG.jpg\"/></td></tr></tbody>\n",
            "</table>\n"
          ]
        }
      ]
    },
    {
      "cell_type": "code",
      "source": [
        "import pandas as pd\n",
        "\n",
        "# 假設 soup.find(\"table\", {\"id\": \"tab2-1\"}) 的結果儲存在 table 變數中\n",
        "table = soup.find(\"table\", {\"id\": \"tab2-1\"})\n",
        "\n",
        "# 使用 pandas 的 read_html 函數將表格轉換成 DataFrame\n",
        "df = pd.read_html(str(table))[0]\n",
        "\n",
        "# 顯示 DataFrame\n",
        "print(df)"
      ],
      "metadata": {
        "colab": {
          "base_uri": "https://localhost:8080/"
        },
        "id": "wPTqy95IxTKc",
        "outputId": "316b0f79-1fe0-4eec-fdca-dd39328cfc46"
      },
      "execution_count": null,
      "outputs": [
        {
          "output_type": "stream",
          "name": "stdout",
          "text": [
            "              收容所  (犬)留容最大值  (犬)在養數  燈號\n",
            "0    新北市政府動物保護防疫處        20      13 NaN\n",
            "1    新北市板橋區公立動物之家       347     160 NaN\n",
            "2    新北市新店區公立動物之家       170     132 NaN\n",
            "3    新北市中和區公立動物之家       353     232 NaN\n",
            "4    新北市淡水區公立動物之家        85      50 NaN\n",
            "5    新北市瑞芳區公立動物之家       100      75 NaN\n",
            "6    新北市五股區公立動物之家       260     190 NaN\n",
            "7    新北市八里區公立動物之家       160      80 NaN\n",
            "8    新北市三芝區公立動物之家       120      35 NaN\n",
            "9         臺北市動物之家       840     729 NaN\n",
            "10    臺中市動物之家南屯園區       400     359 NaN\n",
            "11    臺中市動物之家后里園區       400     107 NaN\n",
            "12     臺南市動物之家灣裡站       400     674 NaN\n",
            "13     臺南市動物之家善化站       300     680 NaN\n",
            "14  高雄市壽山動物保護教育園區       250      70 NaN\n",
            "15  高雄市燕巢動物保護關愛園區       650     296 NaN\n",
            "16    桃園市動物保護教育園區       652     667 NaN\n",
            "17    宜蘭縣流浪動物中途之家       270     181 NaN\n",
            "18    新竹縣動物保護教育園區       162     158 NaN\n",
            "19    苗栗縣動物保護教育園區       371     414 NaN\n",
            "20     彰化縣流浪狗中途之家       239     153 NaN\n",
            "21     南投縣公立動物收容所       300     345 NaN\n",
            "22     雲林縣流浪動物收容所       300     375 NaN\n",
            "23    嘉義縣動物保護教育園區       200     155 NaN\n",
            "24    屏東縣公立犬貓中途之家        80      91 NaN\n",
            "25        屏東縣動物之家       500     339 NaN\n",
            "26      臺東縣動物收容中心       104      61 NaN\n",
            "27      花蓮縣狗貓躍動園區       330     223 NaN\n",
            "28    澎湖縣流浪動物收容中心       348     372 NaN\n",
            "29        基隆市寵物銀行       100      50 NaN\n",
            "30    新竹市動物保護教育園區       250     159 NaN\n",
            "31    嘉義市動物保護教育園區       100      65 NaN\n",
            "32      金門縣動物收容中心       200     179 NaN\n",
            "33     連江縣流浪犬收容中心       120      58 NaN\n"
          ]
        },
        {
          "output_type": "stream",
          "name": "stderr",
          "text": [
            "<ipython-input-32-4c501dbe2718>:7: FutureWarning: Passing literal html to 'read_html' is deprecated and will be removed in a future version. To read from a literal string, wrap it in a 'StringIO' object.\n",
            "  df = pd.read_html(str(table))[0]\n"
          ]
        }
      ]
    }
  ]
}